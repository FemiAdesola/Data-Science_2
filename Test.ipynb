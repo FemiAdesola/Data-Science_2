{
  "nbformat": 4,
  "nbformat_minor": 0,
  "metadata": {
    "colab": {
      "provenance": [],
      "authorship_tag": "ABX9TyO39EQdJzf4YH2Hl3Dcss0x",
      "include_colab_link": true
    },
    "kernelspec": {
      "name": "python3",
      "display_name": "Python 3"
    },
    "language_info": {
      "name": "python"
    }
  },
  "cells": [
    {
      "cell_type": "markdown",
      "metadata": {
        "id": "view-in-github",
        "colab_type": "text"
      },
      "source": [
        "<a href=\"https://colab.research.google.com/github/FemiAdesola/Data-Science_2/blob/main/Test.ipynb\" target=\"_parent\"><img src=\"https://colab.research.google.com/assets/colab-badge.svg\" alt=\"Open In Colab\"/></a>"
      ]
    },
    {
      "cell_type": "code",
      "execution_count": null,
      "metadata": {
        "id": "dPEhl5iXOqYL"
      },
      "outputs": [],
      "source": [
        "#Input function"
      ]
    },
    {
      "cell_type": "code",
      "source": [
        "name = input()\n"
      ],
      "metadata": {
        "colab": {
          "base_uri": "https://localhost:8080/"
        },
        "id": "wmOwV8_xO2Gb",
        "outputId": "24fce446-603f-4b8a-c900-3565b84b0543"
      },
      "execution_count": null,
      "outputs": [
        {
          "name": "stdout",
          "output_type": "stream",
          "text": [
            "Femi\n"
          ]
        }
      ]
    },
    {
      "cell_type": "code",
      "source": [
        "Age = input(\"Please enter your age: \")"
      ],
      "metadata": {
        "colab": {
          "base_uri": "https://localhost:8080/"
        },
        "id": "4hJRRRkyO-Ob",
        "outputId": "c153a31f-4667-4de2-807c-29332a5dd0db"
      },
      "execution_count": null,
      "outputs": [
        {
          "name": "stdout",
          "output_type": "stream",
          "text": [
            "Please enter your age: 31\n"
          ]
        }
      ]
    },
    {
      "cell_type": "code",
      "source": [
        "# persionalized information\n",
        "Name = input(\"Please enter your Name: \")\n",
        "Age = input(\"Please enter your Age: \")\n",
        "\n",
        "# Print function for the information\n",
        "print(f\"Hello, {Name}! You are {Age} years old\")"
      ],
      "metadata": {
        "colab": {
          "base_uri": "https://localhost:8080/"
        },
        "id": "KmVQLts3PxUG",
        "outputId": "dec08f87-82d1-410e-a9bf-2534fab2366a"
      },
      "execution_count": null,
      "outputs": [
        {
          "output_type": "stream",
          "name": "stdout",
          "text": [
            "Please enter your Name: Femi\n",
            "Please enter your Age: 31\n",
            "Hello, Femi! You are 31 years old\n"
          ]
        }
      ]
    },
    {
      "cell_type": "code",
      "source": [
        "# Telling the datatype type\n",
        "Name = str(input(\"Please enter your Name: \"))\n",
        "Age = int(input(\"Please enter your Age: \"))\n",
        "\n",
        "# Print function for the information\n",
        "print(f\"Hello, {Name}! You are {Age} years old\")\n"
      ],
      "metadata": {
        "colab": {
          "base_uri": "https://localhost:8080/"
        },
        "id": "w65CSQnqQRZ5",
        "outputId": "4b0bf274-2fa3-4625-d6ff-0b69850f1c20"
      },
      "execution_count": null,
      "outputs": [
        {
          "output_type": "stream",
          "name": "stdout",
          "text": [
            "Please enter your Name: Femi\n",
            "Please enter your Age: 31\n",
            "Hello, Femi! You are 31 years old\n"
          ]
        }
      ]
    },
    {
      "cell_type": "code",
      "source": [
        "Age + 2"
      ],
      "metadata": {
        "colab": {
          "base_uri": "https://localhost:8080/"
        },
        "id": "35CbK_gpRJia",
        "outputId": "864d706f-b3f0-4eb3-8ec3-7d3789441f1d"
      },
      "execution_count": null,
      "outputs": [
        {
          "output_type": "execute_result",
          "data": {
            "text/plain": [
              "33"
            ]
          },
          "metadata": {},
          "execution_count": 83
        }
      ]
    },
    {
      "cell_type": "code",
      "source": [
        "# Checking Variable type"
      ],
      "metadata": {
        "id": "3DBGT9QgRNZP"
      },
      "execution_count": null,
      "outputs": []
    },
    {
      "cell_type": "code",
      "source": [
        "Name = \"Femi\"\n",
        "type(Name)"
      ],
      "metadata": {
        "colab": {
          "base_uri": "https://localhost:8080/"
        },
        "id": "n9e3VdRJRzCW",
        "outputId": "79aada1b-3133-49c0-9f7f-414bad8fced1"
      },
      "execution_count": null,
      "outputs": [
        {
          "output_type": "execute_result",
          "data": {
            "text/plain": [
              "str"
            ]
          },
          "metadata": {},
          "execution_count": 85
        }
      ]
    },
    {
      "cell_type": "code",
      "source": [
        "Name = \"Femi\"\n",
        "Age = 31\n",
        "Height = 1.75\n",
        "\n",
        "print(type(Name))\n",
        "print(type(Age))\n",
        "print(type(Height))\n"
      ],
      "metadata": {
        "colab": {
          "base_uri": "https://localhost:8080/"
        },
        "id": "pmxrBFOaR6Be",
        "outputId": "1b4a1b64-bdca-4620-ffbd-e58257209ed4"
      },
      "execution_count": null,
      "outputs": [
        {
          "output_type": "stream",
          "name": "stdout",
          "text": [
            "<class 'str'>\n",
            "<class 'int'>\n",
            "<class 'float'>\n"
          ]
        }
      ]
    },
    {
      "cell_type": "code",
      "source": [
        "print(f\" The varibale type for name is {type(Name)} and for age is {type(Age)} and the heihght is {(type(Height))}\")"
      ],
      "metadata": {
        "colab": {
          "base_uri": "https://localhost:8080/"
        },
        "id": "pnv60I0aSZww",
        "outputId": "8498d36b-cb1c-48a3-f027-e1f541d94938"
      },
      "execution_count": null,
      "outputs": [
        {
          "output_type": "stream",
          "name": "stdout",
          "text": [
            " The varibale type for name is <class 'str'> and for age is <class 'int'> and the heihght is <class 'float'>\n"
          ]
        }
      ]
    },
    {
      "cell_type": "markdown",
      "source": [
        "## Arithemetic operation"
      ],
      "metadata": {
        "id": "ZjeBfeTATUuM"
      }
    },
    {
      "cell_type": "code",
      "source": [
        "x = 5\n",
        "y = 4"
      ],
      "metadata": {
        "id": "3hBUCumKTPCv"
      },
      "execution_count": null,
      "outputs": []
    },
    {
      "cell_type": "code",
      "source": [
        "# Addition\n",
        "x+y"
      ],
      "metadata": {
        "colab": {
          "base_uri": "https://localhost:8080/"
        },
        "id": "q7hg7w5OTX8M",
        "outputId": "96ca8bd1-68c3-445c-bd46-17f24c47e4ea"
      },
      "execution_count": null,
      "outputs": [
        {
          "output_type": "execute_result",
          "data": {
            "text/plain": [
              "9"
            ]
          },
          "metadata": {},
          "execution_count": 89
        }
      ]
    },
    {
      "cell_type": "code",
      "source": [
        "# substraction\n",
        "x-y"
      ],
      "metadata": {
        "colab": {
          "base_uri": "https://localhost:8080/"
        },
        "id": "PWAuAjT6Th0m",
        "outputId": "b3040796-2fab-4378-ff33-11bf697ccf05"
      },
      "execution_count": null,
      "outputs": [
        {
          "output_type": "execute_result",
          "data": {
            "text/plain": [
              "1"
            ]
          },
          "metadata": {},
          "execution_count": 90
        }
      ]
    },
    {
      "cell_type": "code",
      "source": [
        "# Multiplication\n",
        "x*y"
      ],
      "metadata": {
        "colab": {
          "base_uri": "https://localhost:8080/"
        },
        "id": "992kIOg0Tm9C",
        "outputId": "a2573d59-ee0b-4835-9899-9659883f9328"
      },
      "execution_count": null,
      "outputs": [
        {
          "output_type": "execute_result",
          "data": {
            "text/plain": [
              "20"
            ]
          },
          "metadata": {},
          "execution_count": 91
        }
      ]
    },
    {
      "cell_type": "code",
      "source": [
        "# Exponetial\n",
        "x**y"
      ],
      "metadata": {
        "colab": {
          "base_uri": "https://localhost:8080/"
        },
        "id": "8jLL5WUNTqX0",
        "outputId": "3c01fddb-d027-44d0-c1b3-862db23645a2"
      },
      "execution_count": null,
      "outputs": [
        {
          "output_type": "execute_result",
          "data": {
            "text/plain": [
              "625"
            ]
          },
          "metadata": {},
          "execution_count": 92
        }
      ]
    },
    {
      "cell_type": "code",
      "source": [
        "# Division\n",
        "x/y"
      ],
      "metadata": {
        "colab": {
          "base_uri": "https://localhost:8080/"
        },
        "id": "v3C0-ALLTw1g",
        "outputId": "a4d97972-3ee3-4fb5-dee8-ac8ebd513039"
      },
      "execution_count": null,
      "outputs": [
        {
          "output_type": "execute_result",
          "data": {
            "text/plain": [
              "1.25"
            ]
          },
          "metadata": {},
          "execution_count": 93
        }
      ]
    },
    {
      "cell_type": "code",
      "source": [
        "# modulus\n",
        "x%y"
      ],
      "metadata": {
        "colab": {
          "base_uri": "https://localhost:8080/"
        },
        "id": "jyDudoATT2Ok",
        "outputId": "1b4ac2e8-2cbd-45e8-fed5-9e923fe3c17c"
      },
      "execution_count": null,
      "outputs": [
        {
          "output_type": "execute_result",
          "data": {
            "text/plain": [
              "1"
            ]
          },
          "metadata": {},
          "execution_count": 94
        }
      ]
    },
    {
      "cell_type": "code",
      "source": [
        "# Floor Division\n",
        "x//y"
      ],
      "metadata": {
        "colab": {
          "base_uri": "https://localhost:8080/"
        },
        "id": "9XOf3PpoT_IT",
        "outputId": "62942b78-d741-430a-8fae-2d4394b1c4ef"
      },
      "execution_count": null,
      "outputs": [
        {
          "output_type": "execute_result",
          "data": {
            "text/plain": [
              "1"
            ]
          },
          "metadata": {},
          "execution_count": 95
        }
      ]
    },
    {
      "cell_type": "markdown",
      "source": [
        "## Compound Assignment operators"
      ],
      "metadata": {
        "id": "y73Pd5eKVH94"
      }
    },
    {
      "cell_type": "code",
      "source": [
        "# Compound Assignment operators\n",
        "x += 3 # equivalent to x = x+3\n",
        "\n",
        "print(x)"
      ],
      "metadata": {
        "colab": {
          "base_uri": "https://localhost:8080/"
        },
        "id": "6KtiWvERUEMF",
        "outputId": "32280f30-3f29-4d62-f3c4-8b137e443f22"
      },
      "execution_count": null,
      "outputs": [
        {
          "output_type": "stream",
          "name": "stdout",
          "text": [
            "8\n"
          ]
        }
      ]
    },
    {
      "cell_type": "code",
      "source": [
        "x= x+3\n",
        "print(x)"
      ],
      "metadata": {
        "colab": {
          "base_uri": "https://localhost:8080/"
        },
        "id": "gqdbe7ItUTv1",
        "outputId": "244575ed-1c7b-4072-ab47-48dd6b9d6402"
      },
      "execution_count": null,
      "outputs": [
        {
          "output_type": "stream",
          "name": "stdout",
          "text": [
            "11\n"
          ]
        }
      ]
    },
    {
      "cell_type": "code",
      "source": [
        "# Compound Assignment operators\n",
        "x -= 3 # equivalent to x = x+3\n",
        "\n",
        "print(x)"
      ],
      "metadata": {
        "colab": {
          "base_uri": "https://localhost:8080/"
        },
        "id": "ZK48R67QUyH-",
        "outputId": "a18e722d-98a0-4404-af34-e27d24ae8783"
      },
      "execution_count": null,
      "outputs": [
        {
          "output_type": "stream",
          "name": "stdout",
          "text": [
            "8\n"
          ]
        }
      ]
    },
    {
      "cell_type": "code",
      "source": [
        "x= x-3\n",
        "print(x)"
      ],
      "metadata": {
        "colab": {
          "base_uri": "https://localhost:8080/"
        },
        "id": "3hXnKusIVUN3",
        "outputId": "6b91c35c-f5ec-482c-e0cf-0dfa419500a2"
      },
      "execution_count": null,
      "outputs": [
        {
          "output_type": "stream",
          "name": "stdout",
          "text": [
            "5\n"
          ]
        }
      ]
    },
    {
      "cell_type": "code",
      "source": [
        "# Compound Assignment operators\n",
        "x //= 3 # equivalent to x = x+3\n",
        "print(x)"
      ],
      "metadata": {
        "colab": {
          "base_uri": "https://localhost:8080/"
        },
        "id": "basfGhH7VXy8",
        "outputId": "d6173d3f-52b2-4222-a37b-84d1acc46459"
      },
      "execution_count": null,
      "outputs": [
        {
          "output_type": "stream",
          "name": "stdout",
          "text": [
            "1\n"
          ]
        }
      ]
    },
    {
      "cell_type": "code",
      "source": [
        "# Compound Assignment operators\n",
        "x *= 3 # equivalent to x = x+3\n",
        "print(x)"
      ],
      "metadata": {
        "colab": {
          "base_uri": "https://localhost:8080/"
        },
        "id": "LD5DUTywVhw8",
        "outputId": "bf1b7492-d28a-4073-ef8d-519141dfd8ce"
      },
      "execution_count": null,
      "outputs": [
        {
          "output_type": "stream",
          "name": "stdout",
          "text": [
            "3\n"
          ]
        }
      ]
    },
    {
      "cell_type": "code",
      "source": [
        "x = x*3\n",
        "print(x)"
      ],
      "metadata": {
        "colab": {
          "base_uri": "https://localhost:8080/"
        },
        "id": "PWkNziCSVojS",
        "outputId": "c19409ac-c05a-4eae-f28b-43be3dc8af99"
      },
      "execution_count": null,
      "outputs": [
        {
          "output_type": "stream",
          "name": "stdout",
          "text": [
            "9\n"
          ]
        }
      ]
    },
    {
      "cell_type": "markdown",
      "source": [
        "## Comparison\n"
      ],
      "metadata": {
        "id": "mGUJVF-3V1Ym"
      }
    },
    {
      "cell_type": "code",
      "source": [
        "x==y"
      ],
      "metadata": {
        "colab": {
          "base_uri": "https://localhost:8080/"
        },
        "id": "Gie9xAGcV3b5",
        "outputId": "b8f3f83e-bcfc-46ab-9612-a9fbd3681ae5"
      },
      "execution_count": null,
      "outputs": [
        {
          "output_type": "execute_result",
          "data": {
            "text/plain": [
              "False"
            ]
          },
          "metadata": {},
          "execution_count": 103
        }
      ]
    },
    {
      "cell_type": "code",
      "source": [
        "x != y"
      ],
      "metadata": {
        "colab": {
          "base_uri": "https://localhost:8080/"
        },
        "id": "J5ZMPRwbV5aw",
        "outputId": "4518a4d5-4020-4e96-d770-744163f4ea13"
      },
      "execution_count": null,
      "outputs": [
        {
          "output_type": "execute_result",
          "data": {
            "text/plain": [
              "True"
            ]
          },
          "metadata": {},
          "execution_count": 104
        }
      ]
    },
    {
      "cell_type": "code",
      "source": [
        "x<y"
      ],
      "metadata": {
        "colab": {
          "base_uri": "https://localhost:8080/"
        },
        "id": "H96zvurSV91W",
        "outputId": "d3a20805-a830-44b6-ab2a-3510e8a3b783"
      },
      "execution_count": null,
      "outputs": [
        {
          "output_type": "execute_result",
          "data": {
            "text/plain": [
              "False"
            ]
          },
          "metadata": {},
          "execution_count": 105
        }
      ]
    },
    {
      "cell_type": "code",
      "source": [
        "x>y"
      ],
      "metadata": {
        "colab": {
          "base_uri": "https://localhost:8080/"
        },
        "id": "hS2o0KOPWCde",
        "outputId": "8023b369-46a0-4c16-a81a-086e8cf56b4c"
      },
      "execution_count": null,
      "outputs": [
        {
          "output_type": "execute_result",
          "data": {
            "text/plain": [
              "True"
            ]
          },
          "metadata": {},
          "execution_count": 106
        }
      ]
    },
    {
      "cell_type": "code",
      "source": [
        "x>=y"
      ],
      "metadata": {
        "colab": {
          "base_uri": "https://localhost:8080/"
        },
        "id": "2O5KIbtAWE30",
        "outputId": "133d4f83-afac-48d7-f267-95576757f895"
      },
      "execution_count": null,
      "outputs": [
        {
          "output_type": "execute_result",
          "data": {
            "text/plain": [
              "True"
            ]
          },
          "metadata": {},
          "execution_count": 107
        }
      ]
    },
    {
      "cell_type": "code",
      "source": [
        "x<=y"
      ],
      "metadata": {
        "colab": {
          "base_uri": "https://localhost:8080/"
        },
        "id": "ogGI32c7WICT",
        "outputId": "13790f41-6726-49df-86ce-26f1f97695a9"
      },
      "execution_count": null,
      "outputs": [
        {
          "output_type": "execute_result",
          "data": {
            "text/plain": [
              "False"
            ]
          },
          "metadata": {},
          "execution_count": 108
        }
      ]
    },
    {
      "cell_type": "code",
      "source": [
        "# Step 1 - Prompt the user for the meal cost\n",
        "meal_cost = float(input(\"Enter the total cost of the meal: \"))\n",
        "\n",
        "# Step 2 - Prompt the user for the tip percentage\n",
        "tip_percentage = float(input(\"Enter the tip percentage desired (e.g., 15 for 15%): \"))\n",
        "\n",
        "# Step 3 - Prompt the user for the number of people at the table\n",
        "number_of_people = int(input(\"Enter the number of people at the table: \"))\n",
        "\n",
        "# Step 4 - Calculate the tip amount using the tip percentage and the meal cost\n",
        "tip_amount = meal_cost * (tip_percentage / 100)\n",
        "\n",
        "# Step 5 - Calculate the total cost of the meal, including the tip\n",
        "total_cost = meal_cost + tip_amount\n",
        "\n",
        "# Step 6 - Calculate the average cost per person\n",
        "cost_per_person = total_cost / number_of_people\n",
        "\n",
        "# Step 7 - Display everything to users: tip amount, total cost, cost per person\n",
        "print(f\"Tip amount: ${tip_amount:.2f}\")\n",
        "print(f\"Total cost: ${total_cost:.2f}\")\n",
        "print(f\"Cost per person: ${cost_per_person:.2f}\")\n"
      ],
      "metadata": {
        "colab": {
          "base_uri": "https://localhost:8080/"
        },
        "id": "7luwIUlZWLpm",
        "outputId": "4af8da20-7892-4c5a-849a-eab36c6f6eeb"
      },
      "execution_count": null,
      "outputs": [
        {
          "output_type": "stream",
          "name": "stdout",
          "text": [
            "Enter the total cost of the meal: 12\n",
            "Enter the tip percentage desired (e.g., 15 for 15%): 10\n",
            "Enter the number of people at the table: 3\n",
            "Tip amount: $1.20\n",
            "Total cost: $13.20\n",
            "Cost per person: $4.40\n"
          ]
        }
      ]
    },
    {
      "cell_type": "markdown",
      "source": [
        "##If-else conditions"
      ],
      "metadata": {
        "id": "Qm-enFZfX2VZ"
      }
    },
    {
      "cell_type": "code",
      "source": [
        "#If statement\n",
        "x = 2\n"
      ],
      "metadata": {
        "id": "9sJUlRGjX305"
      },
      "execution_count": null,
      "outputs": []
    },
    {
      "cell_type": "code",
      "source": [
        "if x > 5:\n",
        "  print(\"X is greater than 5\")"
      ],
      "metadata": {
        "id": "KA5_kDU1YQI9"
      },
      "execution_count": null,
      "outputs": []
    },
    {
      "cell_type": "code",
      "source": [
        "#If statement part 2\n",
        "x = 10"
      ],
      "metadata": {
        "id": "rAX70TZIX7Y2"
      },
      "execution_count": null,
      "outputs": []
    },
    {
      "cell_type": "code",
      "source": [
        "if x > 5:\n",
        "  print(\"X is greater than 5\")"
      ],
      "metadata": {
        "colab": {
          "base_uri": "https://localhost:8080/"
        },
        "id": "xDh2JdWxYMew",
        "outputId": "49214319-1834-4b17-c549-755a8cc0158c"
      },
      "execution_count": null,
      "outputs": [
        {
          "output_type": "stream",
          "name": "stdout",
          "text": [
            "X is greater than 5\n"
          ]
        }
      ]
    },
    {
      "cell_type": "code",
      "source": [
        "#If + elif\n",
        "x = 20\n",
        "\n",
        "#if condition\n",
        "if x > 15:\n",
        "  print(\"x is greater than 15\")\n",
        "elif x > 5:\n",
        "  print(\"x is greater than 5 but not greater than 15\")"
      ],
      "metadata": {
        "colab": {
          "base_uri": "https://localhost:8080/"
        },
        "id": "4YtjK8ZrYNN8",
        "outputId": "66ba9b37-2dc1-4250-d7c2-11622675da16"
      },
      "execution_count": null,
      "outputs": [
        {
          "output_type": "stream",
          "name": "stdout",
          "text": [
            "x is greater than 15\n"
          ]
        }
      ]
    },
    {
      "cell_type": "code",
      "source": [
        "# if + elif + else\n",
        "x = -10\n",
        "\n",
        "#if condition\n",
        "if x > 15:\n",
        "  print(\"x is greater than 15\")\n",
        "elif x > 5:\n",
        "  print(\"x is greater than 5 but not greater than 15\")\n",
        "else:\n",
        "  print(\"x is less than or equal to 5\")"
      ],
      "metadata": {
        "colab": {
          "base_uri": "https://localhost:8080/"
        },
        "id": "dzB27pjWYhlG",
        "outputId": "7bf5db22-42dc-4230-a9ca-9601af49a559"
      },
      "execution_count": null,
      "outputs": [
        {
          "output_type": "stream",
          "name": "stdout",
          "text": [
            "x is less than or equal to 5\n"
          ]
        }
      ]
    },
    {
      "cell_type": "markdown",
      "source": [
        "## ## For determining who can vote"
      ],
      "metadata": {
        "id": "BNQDdkjiabhV"
      }
    },
    {
      "cell_type": "code",
      "source": [
        "# Create a if-else condition that tells you whether they can vote\n",
        "# The assessment must be based on their age\n",
        "\n",
        "age = int(input(\"Please enter your age: \"))\n",
        "\n",
        "#if-else condition\n",
        "if age >= 18:\n",
        "  print(\"You are eligible to vote.\")\n",
        "else:\n",
        "  print(\"You are not eligible to vote\")"
      ],
      "metadata": {
        "colab": {
          "base_uri": "https://localhost:8080/"
        },
        "id": "MOaWSCmBah9v",
        "outputId": "0d0da522-ac70-4e36-f708-e2f76cf65471"
      },
      "execution_count": null,
      "outputs": [
        {
          "output_type": "stream",
          "name": "stdout",
          "text": [
            "Please enter your age: 31\n",
            "You are eligible to vote.\n"
          ]
        }
      ]
    },
    {
      "cell_type": "markdown",
      "source": [
        "## Grade calculator"
      ],
      "metadata": {
        "id": "5WhjG2sBY0Mh"
      }
    },
    {
      "cell_type": "code",
      "source": [
        "# Take an input of a test score (0-100) and transform it into a grade (A-F)\n",
        "score = float(input(\"Enter your score (0-100): \"))\n",
        "\n",
        "if score >= 90:\n",
        "  grade = 'A'\n",
        "elif score >= 80:\n",
        "  grade = 'B'\n",
        "elif score >= 70:\n",
        "  grade = 'C'\n",
        "elif score >= 60:\n",
        "  grade = 'D'\n",
        "else:\n",
        "  grade = 'F'\n",
        "print(f\"Your score of {score} is equivalent to a {grade} grade\")\n"
      ],
      "metadata": {
        "colab": {
          "base_uri": "https://localhost:8080/"
        },
        "id": "v1a99_RdYq-2",
        "outputId": "01575e55-23c8-412e-9a47-2d4a79618824"
      },
      "execution_count": null,
      "outputs": [
        {
          "output_type": "stream",
          "name": "stdout",
          "text": [
            "Enter your score (0-100): 98\n",
            "Your score of 98.0 is equivalent to a A grade\n"
          ]
        }
      ]
    },
    {
      "cell_type": "code",
      "source": [
        "# Step 1: Get user's age and the current number of guests\n",
        "age = int(input(\"Please tell me you age: \"))\n",
        "current_guests = int(input(\"Enter current number of people in the club: \"))\n",
        "\n",
        "# Step 2: Current Entry rules\n",
        "min_age = 18\n",
        "max_age = 60\n",
        "max_guests = 200\n",
        "\n",
        "# Step 3: Use comparisons to determine if a guest can enter\n",
        "can_enter = (min_age <= age <= max_age) and (current_guests < max_guests)\n",
        "\n",
        "# Step 4: Communicate to user if he or she can enter\n",
        "if can_enter:\n",
        "  print(\"Welcome to Berghain and have fun\")\n",
        "elif age < min_age or age > max_age:\n",
        "  print(\"Sorry, you cannot enter the club due to your age\")\n",
        "elif current_guests > max_guests:\n",
        "  print(\"Sorry, the club is at max capacity\")\n",
        "else:\n",
        "  print(\"Sorry, not tonight\")"
      ],
      "metadata": {
        "colab": {
          "base_uri": "https://localhost:8080/"
        },
        "id": "ZKFwCTzvZBgx",
        "outputId": "114e5ec4-7aeb-4768-8745-a0c633c22dc0"
      },
      "execution_count": null,
      "outputs": [
        {
          "output_type": "stream",
          "name": "stdout",
          "text": [
            "Please tell me you age: 18\n",
            "Enter current number of people in the club: 23\n",
            "Welcome to Berghain and have fun\n"
          ]
        }
      ]
    },
    {
      "cell_type": "markdown",
      "source": [
        "## For Calculating Monthly saving towards retirement aga"
      ],
      "metadata": {
        "id": "yy4GE-uWZlhK"
      }
    },
    {
      "cell_type": "code",
      "source": [
        "# Step 1 - Prompt the user for their age\n",
        "current_age = int(input(\"Please enter your current age: \"))\n",
        "\n",
        "# Step 2 - Prompt for desired retirement age\n",
        "retirement_age = int(input(\"Please enter your target retirement age: \"))\n",
        "\n",
        "#Step 3 - Prompt for desired savings when retired\n",
        "desired_savings = float(input(\"Enter your desired retirement savings: \"))\n",
        "\n",
        "#step 4 - Prompt for interest rate\n",
        "interest_rate = float(input(\"Enter annual interest rate in your savings (e.g., 5 for 5%): \"))\n",
        "\n",
        "#Step 5 - numbers of years until retirements\n",
        "years_until_retirement = retirement_age - current_age\n",
        "print(f\"You have {years_until_retirement} left to work\")\n",
        "\n",
        "# Step 6- calculate number of months until retirement\n",
        "months_until_retirement = years_until_retirement * 12\n",
        "\n",
        "#Step 7 - Calculate monthly interest rate\n",
        "monthly_interest_rate = (1 + interest_rate / 100) ** (1/12) - 1\n",
        "\n",
        "#Step 8 - Determine the monthly savings\n",
        "monthly_savings = (desired_savings * monthly_interest_rate\n",
        "                   ) / ((1 + monthly_interest_rate) ** months_until_retirement -1)\n",
        "\n",
        "#Step  9 - communicate the ideal monthly savings to the user\n",
        "print(f\"Ideal monthly savings amount: {monthly_savings:.0f}\")\n"
      ],
      "metadata": {
        "colab": {
          "base_uri": "https://localhost:8080/"
        },
        "id": "7dJFgvBqZPCv",
        "outputId": "1befbee4-0d11-402d-815d-a06eab8e9f68"
      },
      "execution_count": null,
      "outputs": [
        {
          "output_type": "stream",
          "name": "stdout",
          "text": [
            "Please enter your current age: 47\n",
            "Please enter your target retirement age: 64\n",
            "Enter your desired retirement savings: 30000\n",
            "Enter annual interest rate in your savings (e.g., 5 for 5%): 5\n",
            "You have 17 left to work\n",
            "Ideal monthly savings amount: 95\n"
          ]
        }
      ]
    },
    {
      "cell_type": "markdown",
      "source": [
        "## For Calculating monthly interest rate"
      ],
      "metadata": {
        "id": "HK4iftcabYFu"
      }
    },
    {
      "cell_type": "code",
      "source": [
        "#Example -> 10% interest rate\n",
        "monthly_interest_rate = (1+0.1) ** (1/12) -1\n",
        "print(monthly_interest_rate)"
      ],
      "metadata": {
        "colab": {
          "base_uri": "https://localhost:8080/"
        },
        "id": "xWP-lsogZsFe",
        "outputId": "c2fd7795-6c22-4983-e663-cd8ee043fd9a"
      },
      "execution_count": null,
      "outputs": [
        {
          "output_type": "stream",
          "name": "stdout",
          "text": [
            "0.007974140428903764\n"
          ]
        }
      ]
    }
  ]
}